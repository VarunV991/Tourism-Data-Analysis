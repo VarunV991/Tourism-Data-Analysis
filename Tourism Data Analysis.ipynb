{
 "cells": [
  {
   "cell_type": "markdown",
   "metadata": {},
   "source": [
    "# Tourism Data Analysis"
   ]
  },
  {
   "cell_type": "code",
   "execution_count": null,
   "metadata": {},
   "outputs": [],
   "source": []
  },
  {
   "cell_type": "code",
   "execution_count": 184,
   "metadata": {},
   "outputs": [],
   "source": [
    "#import libraries\n",
    "import pandas as pd\n",
    "import numpy as np\n",
    "import matplotlib.pyplot as plt\n",
    "import seaborn as sns"
   ]
  },
  {
   "cell_type": "code",
   "execution_count": null,
   "metadata": {},
   "outputs": [],
   "source": []
  },
  {
   "cell_type": "code",
   "execution_count": 185,
   "metadata": {},
   "outputs": [],
   "source": [
    "# importing the tourist visits datasets\n",
    "tourist_df = pd.read_csv(\"touristvisits.csv\",error_bad_lines=False)\n",
    "places_df= pd.read_csv(\"places.csv\",error_bad_lines=False)\n",
    "transport_df= pd.read_csv(\"transport.csv\",error_bad_lines=False)\n",
    "stay_df= pd.read_csv(\"stay.csv\",error_bad_lines=False)"
   ]
  },
  {
   "cell_type": "code",
   "execution_count": 186,
   "metadata": {},
   "outputs": [
    {
     "data": {
      "text/html": [
       "<div>\n",
       "<style scoped>\n",
       "    .dataframe tbody tr th:only-of-type {\n",
       "        vertical-align: middle;\n",
       "    }\n",
       "\n",
       "    .dataframe tbody tr th {\n",
       "        vertical-align: top;\n",
       "    }\n",
       "\n",
       "    .dataframe thead th {\n",
       "        text-align: right;\n",
       "    }\n",
       "</style>\n",
       "<table border=\"1\" class=\"dataframe\">\n",
       "  <thead>\n",
       "    <tr style=\"text-align: right;\">\n",
       "      <th></th>\n",
       "      <th>State/UT</th>\n",
       "      <th>2016 - Domestic</th>\n",
       "      <th>2016 - Foreign</th>\n",
       "      <th>2017 - Domestic</th>\n",
       "      <th>2017 - Foreign</th>\n",
       "      <th>Growth Rate - Domestic</th>\n",
       "      <th>Growth Rate - Foreign</th>\n",
       "    </tr>\n",
       "  </thead>\n",
       "  <tbody>\n",
       "    <tr>\n",
       "      <th>0</th>\n",
       "      <td>Andaman &amp; Nicobar Islands</td>\n",
       "      <td>384552</td>\n",
       "      <td>15466</td>\n",
       "      <td>471919</td>\n",
       "      <td>15313</td>\n",
       "      <td>22.7</td>\n",
       "      <td>-1.0</td>\n",
       "    </tr>\n",
       "    <tr>\n",
       "      <th>1</th>\n",
       "      <td>Andhra Pradesh</td>\n",
       "      <td>153163354</td>\n",
       "      <td>341764</td>\n",
       "      <td>165433898</td>\n",
       "      <td>271362</td>\n",
       "      <td>8.0</td>\n",
       "      <td>-20.6</td>\n",
       "    </tr>\n",
       "    <tr>\n",
       "      <th>2</th>\n",
       "      <td>Arunachal Pradesh</td>\n",
       "      <td>385875</td>\n",
       "      <td>6598</td>\n",
       "      <td>444005</td>\n",
       "      <td>7147</td>\n",
       "      <td>15.1</td>\n",
       "      <td>8.3</td>\n",
       "    </tr>\n",
       "    <tr>\n",
       "      <th>3</th>\n",
       "      <td>Assam</td>\n",
       "      <td>5160599</td>\n",
       "      <td>19456</td>\n",
       "      <td>6052667</td>\n",
       "      <td>21760</td>\n",
       "      <td>17.3</td>\n",
       "      <td>11.8</td>\n",
       "    </tr>\n",
       "    <tr>\n",
       "      <th>4</th>\n",
       "      <td>Bihar</td>\n",
       "      <td>28516127</td>\n",
       "      <td>1010531</td>\n",
       "      <td>32414063</td>\n",
       "      <td>1082705</td>\n",
       "      <td>13.7</td>\n",
       "      <td>7.1</td>\n",
       "    </tr>\n",
       "  </tbody>\n",
       "</table>\n",
       "</div>"
      ],
      "text/plain": [
       "                    State/UT  2016 - Domestic  2016 - Foreign  \\\n",
       "0  Andaman & Nicobar Islands           384552           15466   \n",
       "1             Andhra Pradesh        153163354          341764   \n",
       "2          Arunachal Pradesh           385875            6598   \n",
       "3                      Assam          5160599           19456   \n",
       "4                      Bihar         28516127         1010531   \n",
       "\n",
       "   2017 - Domestic  2017 - Foreign  Growth Rate - Domestic  \\\n",
       "0           471919           15313                    22.7   \n",
       "1        165433898          271362                     8.0   \n",
       "2           444005            7147                    15.1   \n",
       "3          6052667           21760                    17.3   \n",
       "4         32414063         1082705                    13.7   \n",
       "\n",
       "   Growth Rate - Foreign  \n",
       "0                   -1.0  \n",
       "1                  -20.6  \n",
       "2                    8.3  \n",
       "3                   11.8  \n",
       "4                    7.1  "
      ]
     },
     "execution_count": 186,
     "metadata": {},
     "output_type": "execute_result"
    }
   ],
   "source": [
    "tourist_df.head()"
   ]
  },
  {
   "cell_type": "markdown",
   "metadata": {},
   "source": [
    "<b> I tried to get tourist visit count dataset of cities but could not get it. So, here I am using tourist visit count of states and UT dataset which has been taken from data.gov.in </b>"
   ]
  },
  {
   "cell_type": "code",
   "execution_count": null,
   "metadata": {},
   "outputs": [],
   "source": []
  },
  {
   "cell_type": "markdown",
   "metadata": {},
   "source": [
    "<h2> Visualizing the no. of foreign visits in each state in 2016 & 2017 </h2>"
   ]
  },
  {
   "cell_type": "code",
   "execution_count": null,
   "metadata": {},
   "outputs": [],
   "source": []
  },
  {
   "cell_type": "code",
   "execution_count": 187,
   "metadata": {},
   "outputs": [
    {
     "data": {
      "text/plain": [
       "<BarContainer object of 36 artists>"
      ]
     },
     "execution_count": 187,
     "metadata": {},
     "output_type": "execute_result"
    },
    {
     "data": {
      "image/png": "[encoded data removed]",
      "text/plain": [
       "<Figure size 720x864 with 1 Axes>"
      ]
     },
     "metadata": {
      "needs_background": "light"
     },
     "output_type": "display_data"
    }
   ],
   "source": [
    "fig, ax = plt.subplots(figsize=(10,12))\n",
    "ax.barh(tourist_df[\"State/UT\"],tourist_df[\"2016 - Foreign\"]+tourist_df[\"2017 - Foreign\"],height=0.8, left=None,align='center')"
   ]
  },
  {
   "cell_type": "markdown",
   "metadata": {},
   "source": [
    "<i> Here, since the scale is of 10 to the power 7, some states' count is not visible </i>"
   ]
  },
  {
   "cell_type": "markdown",
   "metadata": {},
   "source": [
    "<h3> Most Visited State by Foreigners in 2016 </h3>"
   ]
  },
  {
   "cell_type": "code",
   "execution_count": 188,
   "metadata": {},
   "outputs": [
    {
     "name": "stdout",
     "output_type": "stream",
     "text": [
      "State:  Tamil Nadu\n",
      "No. of Visits:  4721978\n"
     ]
    }
   ],
   "source": [
    "print('State: ',tourist_df[\"State/UT\"].values[tourist_df[\"2016 - Foreign\"].idxmax()])\n",
    "print('No. of Visits: ',tourist_df[\"2016 - Foreign\"].max())"
   ]
  },
  {
   "cell_type": "markdown",
   "metadata": {},
   "source": [
    "<h3> Most Visited State by Foreigners in 2017 </h3>"
   ]
  },
  {
   "cell_type": "code",
   "execution_count": 189,
   "metadata": {},
   "outputs": [
    {
     "name": "stdout",
     "output_type": "stream",
     "text": [
      "State:  Maharashtra\n",
      "No. of Visits:  5078514\n"
     ]
    }
   ],
   "source": [
    "print('State: ',tourist_df[\"State/UT\"].values[tourist_df[\"2017 - Foreign\"].idxmax()])\n",
    "print('No. of Visits: ',tourist_df[\"2017 - Foreign\"].max())"
   ]
  },
  {
   "cell_type": "code",
   "execution_count": null,
   "metadata": {},
   "outputs": [],
   "source": []
  },
  {
   "cell_type": "markdown",
   "metadata": {},
   "source": [
    "<b> Analyzing the dataset, we get to know that Maharashtra and Tamil Nadu are the most visited states by the foreigners </b>"
   ]
  },
  {
   "cell_type": "code",
   "execution_count": null,
   "metadata": {},
   "outputs": [],
   "source": []
  },
  {
   "cell_type": "markdown",
   "metadata": {},
   "source": [
    "<h2> Visualizing the no. of domestic visits in each state in 2016 & 2017 </h2>"
   ]
  },
  {
   "cell_type": "code",
   "execution_count": null,
   "metadata": {},
   "outputs": [],
   "source": []
  },
  {
   "cell_type": "code",
   "execution_count": 190,
   "metadata": {},
   "outputs": [
    {
     "data": {
      "text/plain": [
       "<BarContainer object of 36 artists>"
      ]
     },
     "execution_count": 190,
     "metadata": {},
     "output_type": "execute_result"
    },
    {
     "data": {
      "image/png": "[encoded data removed]",
      "text/plain": [
       "<Figure size 720x864 with 1 Axes>"
      ]
     },
     "metadata": {
      "needs_background": "light"
     },
     "output_type": "display_data"
    }
   ],
   "source": [
    "fig, ax = plt.subplots(figsize=(10,12))\n",
    "ax.barh(tourist_df[\"State/UT\"],tourist_df[\"2016 - Domestic\"]+tourist_df[\"2017 - Domestic\"],height=0.8, left=None,align='center')"
   ]
  },
  {
   "cell_type": "markdown",
   "metadata": {},
   "source": [
    "<i> Here, since the scale is of 10 to the power 7, some states' count is not visible </i>"
   ]
  },
  {
   "cell_type": "markdown",
   "metadata": {},
   "source": [
    "<h3> Most Visited State by Indians in 2016 </h3>"
   ]
  },
  {
   "cell_type": "code",
   "execution_count": 191,
   "metadata": {},
   "outputs": [
    {
     "name": "stdout",
     "output_type": "stream",
     "text": [
      "State:  Tamil Nadu\n",
      "No. of Visits:  343812413\n"
     ]
    }
   ],
   "source": [
    "print('State: ',tourist_df[\"State/UT\"].values[tourist_df[\"2016 - Domestic\"].idxmax()])\n",
    "print('No. of Visits: ',tourist_df[\"2016 - Domestic\"].max())"
   ]
  },
  {
   "cell_type": "markdown",
   "metadata": {},
   "source": [
    "<h3> Most Visited State by Indians in 2017 </h3>"
   ]
  },
  {
   "cell_type": "code",
   "execution_count": 192,
   "metadata": {},
   "outputs": [
    {
     "name": "stdout",
     "output_type": "stream",
     "text": [
      "State:  Tamil Nadu\n",
      "No. of Visits:  345061140\n"
     ]
    }
   ],
   "source": [
    "print('State: ',tourist_df[\"State/UT\"].values[tourist_df[\"2017 - Domestic\"].idxmax()])\n",
    "print('No. of Visits: ',tourist_df[\"2017 - Domestic\"].max())"
   ]
  },
  {
   "cell_type": "code",
   "execution_count": null,
   "metadata": {},
   "outputs": [],
   "source": []
  },
  {
   "cell_type": "markdown",
   "metadata": {},
   "source": [
    "<b> Analyzing the dataset, we get to know that Tamil Nadu is the most visited states by the Indians </b>"
   ]
  },
  {
   "cell_type": "code",
   "execution_count": null,
   "metadata": {},
   "outputs": [],
   "source": []
  },
  {
   "cell_type": "markdown",
   "metadata": {},
   "source": [
    "<h2> Visualizing the no. of places foreigners visit in each state</h2>"
   ]
  },
  {
   "cell_type": "code",
   "execution_count": 193,
   "metadata": {},
   "outputs": [
    {
     "data": {
      "text/html": [
       "<div>\n",
       "<style scoped>\n",
       "    .dataframe tbody tr th:only-of-type {\n",
       "        vertical-align: middle;\n",
       "    }\n",
       "\n",
       "    .dataframe tbody tr th {\n",
       "        vertical-align: top;\n",
       "    }\n",
       "\n",
       "    .dataframe thead th {\n",
       "        text-align: right;\n",
       "    }\n",
       "</style>\n",
       "<table border=\"1\" class=\"dataframe\">\n",
       "  <thead>\n",
       "    <tr style=\"text-align: right;\">\n",
       "      <th></th>\n",
       "      <th>S. No.</th>\n",
       "      <th>State</th>\n",
       "      <th>Destination/ District/ Centre</th>\n",
       "    </tr>\n",
       "  </thead>\n",
       "  <tbody>\n",
       "    <tr>\n",
       "      <th>0</th>\n",
       "      <td>1</td>\n",
       "      <td>Andaman and Nicobar Islands</td>\n",
       "      <td>Cellular Jail Complex , Port Blair</td>\n",
       "    </tr>\n",
       "    <tr>\n",
       "      <th>1</th>\n",
       "      <td>1</td>\n",
       "      <td>Andaman and Nicobar Islands</td>\n",
       "      <td>Cellular Jail , Port Blair</td>\n",
       "    </tr>\n",
       "    <tr>\n",
       "      <th>2</th>\n",
       "      <td>1</td>\n",
       "      <td>Andaman and Nicobar Islands</td>\n",
       "      <td>Limestone Caves, Baratang</td>\n",
       "    </tr>\n",
       "    <tr>\n",
       "      <th>3</th>\n",
       "      <td>1</td>\n",
       "      <td>Andaman and Nicobar Islands</td>\n",
       "      <td>Mahatama Gandhi Marine National Park Wandoor</td>\n",
       "    </tr>\n",
       "    <tr>\n",
       "      <th>4</th>\n",
       "      <td>1</td>\n",
       "      <td>Andaman and Nicobar Islands</td>\n",
       "      <td>Mount Harriat National Park</td>\n",
       "    </tr>\n",
       "  </tbody>\n",
       "</table>\n",
       "</div>"
      ],
      "text/plain": [
       "   S. No.                        State  \\\n",
       "0       1  Andaman and Nicobar Islands   \n",
       "1       1  Andaman and Nicobar Islands   \n",
       "2       1  Andaman and Nicobar Islands   \n",
       "3       1  Andaman and Nicobar Islands   \n",
       "4       1  Andaman and Nicobar Islands   \n",
       "\n",
       "                  Destination/ District/ Centre  \n",
       "0            Cellular Jail Complex , Port Blair  \n",
       "1                    Cellular Jail , Port Blair  \n",
       "2                     Limestone Caves, Baratang  \n",
       "3  Mahatama Gandhi Marine National Park Wandoor  \n",
       "4                   Mount Harriat National Park  "
      ]
     },
     "execution_count": 193,
     "metadata": {},
     "output_type": "execute_result"
    }
   ],
   "source": [
    "places_df.head()"
   ]
  },
  {
   "cell_type": "code",
   "execution_count": 194,
   "metadata": {},
   "outputs": [],
   "source": [
    "order_loc = places_df['State'].value_counts().iloc[:].index"
   ]
  },
  {
   "cell_type": "code",
   "execution_count": 195,
   "metadata": {},
   "outputs": [
    {
     "data": {
      "text/plain": [
       "<matplotlib.axes._subplots.AxesSubplot at 0x2156aafa7b8>"
      ]
     },
     "execution_count": 195,
     "metadata": {},
     "output_type": "execute_result"
    },
    {
     "data": {
      "image/png": "[encoded data removed]",
      "text/plain": [
       "<Figure size 720x720 with 1 Axes>"
      ]
     },
     "metadata": {
      "needs_background": "light"
     },
     "output_type": "display_data"
    }
   ],
   "source": [
    "plt.figure(figsize = (10,10))\n",
    "sns.countplot(y = 'State',data = places_df,order = order_loc)"
   ]
  },
  {
   "cell_type": "markdown",
   "metadata": {},
   "source": [
    "<h3> From the previous results, we know that Tamil Nadu and Maharahtra has the most domestic and foreign visitors. Let's see the places visited by them in the respective states </h3>"
   ]
  },
  {
   "cell_type": "markdown",
   "metadata": {},
   "source": []
  },
  {
   "cell_type": "markdown",
   "metadata": {},
   "source": [
    "<h4> Places visited in Tamil Nadu </h4>"
   ]
  },
  {
   "cell_type": "code",
   "execution_count": 196,
   "metadata": {},
   "outputs": [
    {
     "name": "stdout",
     "output_type": "stream",
     "text": [
      "Chennai\n",
      "Rameswaram\n",
      "Madurai\n",
      "Thiruvannamalai\n",
      "Kodaikanal\n",
      "Thiruchendur\n",
      "Kanniyakumari\n",
      "Udhagamandalam\n",
      "Salem\n",
      "Thiruchirapalli\n",
      "Coimbatore\n",
      "Palani\n",
      "Thanjavur\n",
      "Hogenakkal\n",
      "Kumbakonam\n",
      "Kancheepuram\n",
      "Chidambaram\n",
      "Yercand\n",
      "Courtallam\n",
      "Mamallapuram\n",
      "Velankanni\n",
      "Nagore\n",
      "Tiruttani\n",
      "Coonoor\n",
      "Elagiri\n",
      "Poompuhar\n",
      "Mudumalai\n",
      "Pitchavaram\n",
      "Panchalankurichi\n"
     ]
    }
   ],
   "source": [
    "tam_df = places_df.loc[places_df.State=='Tamil nadu']\n",
    "for results in tam_df['Destination/ District/ Centre']:\n",
    "    print(results)"
   ]
  },
  {
   "cell_type": "code",
   "execution_count": null,
   "metadata": {},
   "outputs": [],
   "source": []
  },
  {
   "cell_type": "markdown",
   "metadata": {},
   "source": [
    "<h4> Places visited in Maharashtra </h4>"
   ]
  },
  {
   "cell_type": "code",
   "execution_count": 197,
   "metadata": {},
   "outputs": [
    {
     "name": "stdout",
     "output_type": "stream",
     "text": [
      "Mumbai\n",
      "Pune\n",
      "Mumbai Suburban\n",
      "Aurangabad\n",
      "Ahmednagar\n",
      "Sindhudurg\n",
      "Nanded\n",
      "Kolhapur\n",
      "Ratnagiri\n",
      "Nagpur\n",
      "Raigad\n",
      "Nasik\n",
      "Thane\n",
      "Satara\n",
      "Wardha\n",
      "Chandapur\n",
      "Osmanabad\n",
      "Solapur\n",
      "Buldhana\n",
      "Washim\n",
      "Hingoli\n",
      "Jalgaon\n",
      "Beed\n"
     ]
    }
   ],
   "source": [
    "mah_df = places_df.loc[places_df.State=='Maharashtra']\n",
    "for results in mah_df['Destination/ District/ Centre']:\n",
    "    print(results)"
   ]
  },
  {
   "cell_type": "code",
   "execution_count": null,
   "metadata": {},
   "outputs": [],
   "source": []
  },
  {
   "cell_type": "markdown",
   "metadata": {},
   "source": [
    "<h2> Mode of Transportation used by the tourists </h2>"
   ]
  },
  {
   "cell_type": "code",
   "execution_count": 198,
   "metadata": {},
   "outputs": [
    {
     "data": {
      "text/html": [
       "<div>\n",
       "<style scoped>\n",
       "    .dataframe tbody tr th:only-of-type {\n",
       "        vertical-align: middle;\n",
       "    }\n",
       "\n",
       "    .dataframe tbody tr th {\n",
       "        vertical-align: top;\n",
       "    }\n",
       "\n",
       "    .dataframe thead th {\n",
       "        text-align: right;\n",
       "    }\n",
       "</style>\n",
       "<table border=\"1\" class=\"dataframe\">\n",
       "  <thead>\n",
       "    <tr style=\"text-align: right;\">\n",
       "      <th></th>\n",
       "      <th>Mode of transportation</th>\n",
       "      <th>Overnight Foreign Visitors</th>\n",
       "      <th>Overnight Domestic Visitors</th>\n",
       "      <th>Same day Foreign Visitors</th>\n",
       "      <th>Same day Domestic Visitors</th>\n",
       "    </tr>\n",
       "  </thead>\n",
       "  <tbody>\n",
       "    <tr>\n",
       "      <th>0</th>\n",
       "      <td>Train</td>\n",
       "      <td>1066487</td>\n",
       "      <td>65248848</td>\n",
       "      <td>0</td>\n",
       "      <td>68744322</td>\n",
       "    </tr>\n",
       "    <tr>\n",
       "      <th>1</th>\n",
       "      <td>Bus</td>\n",
       "      <td>355495</td>\n",
       "      <td>48936636</td>\n",
       "      <td>0</td>\n",
       "      <td>44276004</td>\n",
       "    </tr>\n",
       "    <tr>\n",
       "      <th>2</th>\n",
       "      <td>Personal Vehicle</td>\n",
       "      <td>558636</td>\n",
       "      <td>0</td>\n",
       "      <td>0</td>\n",
       "      <td>0</td>\n",
       "    </tr>\n",
       "    <tr>\n",
       "      <th>3</th>\n",
       "      <td>Taxi</td>\n",
       "      <td>3097294</td>\n",
       "      <td>2330316</td>\n",
       "      <td>0</td>\n",
       "      <td>3495474</td>\n",
       "    </tr>\n",
       "  </tbody>\n",
       "</table>\n",
       "</div>"
      ],
      "text/plain": [
       "  Mode of transportation  Overnight Foreign Visitors  \\\n",
       "0                  Train                     1066487   \n",
       "1                    Bus                      355495   \n",
       "2       Personal Vehicle                      558636   \n",
       "3                   Taxi                     3097294   \n",
       "\n",
       "   Overnight Domestic Visitors  Same day Foreign Visitors  \\\n",
       "0                     65248848                          0   \n",
       "1                     48936636                          0   \n",
       "2                            0                          0   \n",
       "3                      2330316                          0   \n",
       "\n",
       "   Same day Domestic Visitors  \n",
       "0                    68744322  \n",
       "1                    44276004  \n",
       "2                           0  \n",
       "3                     3495474  "
      ]
     },
     "execution_count": 198,
     "metadata": {},
     "output_type": "execute_result"
    }
   ],
   "source": [
    "transport_df.head()"
   ]
  },
  {
   "cell_type": "markdown",
   "metadata": {},
   "source": [
    "<h4> Domestic Visitors </h4>"
   ]
  },
  {
   "cell_type": "code",
   "execution_count": 199,
   "metadata": {},
   "outputs": [
    {
     "data": {
      "text/plain": [
       "<BarContainer object of 4 artists>"
      ]
     },
     "execution_count": 199,
     "metadata": {},
     "output_type": "execute_result"
    },
    {
     "data": {
      "image/png": "[encoded data removed]",
      "text/plain": [
       "<Figure size 720x360 with 1 Axes>"
      ]
     },
     "metadata": {
      "needs_background": "light"
     },
     "output_type": "display_data"
    }
   ],
   "source": [
    "plt.figure(figsize=(10,5))\n",
    "plt.bar(transport_df[\"Mode of transportation\"],transport_df[\"Overnight Domestic Visitors\"],width=0.8)"
   ]
  },
  {
   "cell_type": "markdown",
   "metadata": {},
   "source": [
    "<b> We deduce from the plot that Train is the preferred mode of transport for domestic tourists. </b>"
   ]
  },
  {
   "cell_type": "code",
   "execution_count": null,
   "metadata": {},
   "outputs": [],
   "source": []
  },
  {
   "cell_type": "markdown",
   "metadata": {},
   "source": [
    "<h4> Foreign Tourists </h4>"
   ]
  },
  {
   "cell_type": "code",
   "execution_count": 200,
   "metadata": {},
   "outputs": [
    {
     "data": {
      "text/plain": [
       "<BarContainer object of 4 artists>"
      ]
     },
     "execution_count": 200,
     "metadata": {},
     "output_type": "execute_result"
    },
    {
     "data": {
      "image/png": "[encoded data removed]",
      "text/plain": [
       "<Figure size 720x360 with 1 Axes>"
      ]
     },
     "metadata": {
      "needs_background": "light"
     },
     "output_type": "display_data"
    }
   ],
   "source": [
    "plt.figure(figsize=(10,5))\n",
    "plt.bar(transport_df[\"Mode of transportation\"],transport_df[\"Overnight Foreign Visitors\"],width=0.8)"
   ]
  },
  {
   "cell_type": "markdown",
   "metadata": {},
   "source": [
    "<b> We deduce from the plot that Taxi is the preferred mode of transport for foreign tourists. </b>"
   ]
  },
  {
   "cell_type": "code",
   "execution_count": null,
   "metadata": {},
   "outputs": [],
   "source": []
  },
  {
   "cell_type": "markdown",
   "metadata": {},
   "source": [
    "<h2> Place of Stay of tourists </h2>"
   ]
  },
  {
   "cell_type": "code",
   "execution_count": 201,
   "metadata": {},
   "outputs": [
    {
     "data": {
      "text/html": [
       "<div>\n",
       "<style scoped>\n",
       "    .dataframe tbody tr th:only-of-type {\n",
       "        vertical-align: middle;\n",
       "    }\n",
       "\n",
       "    .dataframe tbody tr th {\n",
       "        vertical-align: top;\n",
       "    }\n",
       "\n",
       "    .dataframe thead th {\n",
       "        text-align: right;\n",
       "    }\n",
       "</style>\n",
       "<table border=\"1\" class=\"dataframe\">\n",
       "  <thead>\n",
       "    <tr style=\"text-align: right;\">\n",
       "      <th></th>\n",
       "      <th>Place of Stay</th>\n",
       "      <th>Domestic Tourist</th>\n",
       "      <th>Foreign Tourist</th>\n",
       "    </tr>\n",
       "  </thead>\n",
       "  <tbody>\n",
       "    <tr>\n",
       "      <th>0</th>\n",
       "      <td>Star Hotel</td>\n",
       "      <td>3495474</td>\n",
       "      <td>1168058</td>\n",
       "    </tr>\n",
       "    <tr>\n",
       "      <th>1</th>\n",
       "      <td>Non-Star Hotel</td>\n",
       "      <td>27963792</td>\n",
       "      <td>1980620</td>\n",
       "    </tr>\n",
       "    <tr>\n",
       "      <th>2</th>\n",
       "      <td>Motel</td>\n",
       "      <td>1165158</td>\n",
       "      <td>50785</td>\n",
       "    </tr>\n",
       "    <tr>\n",
       "      <th>3</th>\n",
       "      <td>Govt. Guest House / Circuit House / Bhawan / S...</td>\n",
       "      <td>3495474</td>\n",
       "      <td>152355</td>\n",
       "    </tr>\n",
       "    <tr>\n",
       "      <th>4</th>\n",
       "      <td>Private Guest House / Inn / Rest House / Touri...</td>\n",
       "      <td>8156106</td>\n",
       "      <td>50785</td>\n",
       "    </tr>\n",
       "  </tbody>\n",
       "</table>\n",
       "</div>"
      ],
      "text/plain": [
       "                                       Place of Stay  Domestic Tourist  \\\n",
       "0                                         Star Hotel           3495474   \n",
       "1                                     Non-Star Hotel          27963792   \n",
       "2                                              Motel           1165158   \n",
       "3  Govt. Guest House / Circuit House / Bhawan / S...           3495474   \n",
       "4  Private Guest House / Inn / Rest House / Touri...           8156106   \n",
       "\n",
       "   Foreign Tourist  \n",
       "0          1168058  \n",
       "1          1980620  \n",
       "2            50785  \n",
       "3           152355  \n",
       "4            50785  "
      ]
     },
     "execution_count": 201,
     "metadata": {},
     "output_type": "execute_result"
    }
   ],
   "source": [
    "stay_df.head()"
   ]
  },
  {
   "cell_type": "markdown",
   "metadata": {},
   "source": [
    "<h4> Domestic Tourists </h4>"
   ]
  },
  {
   "cell_type": "code",
   "execution_count": null,
   "metadata": {},
   "outputs": [],
   "source": []
  },
  {
   "cell_type": "code",
   "execution_count": 202,
   "metadata": {},
   "outputs": [
    {
     "data": {
      "text/plain": [
       "<BarContainer object of 9 artists>"
      ]
     },
     "execution_count": 202,
     "metadata": {},
     "output_type": "execute_result"
    },
    {
     "data": {
      "image/png": "[encoded data removed]",
      "text/plain": [
       "<Figure size 720x720 with 1 Axes>"
      ]
     },
     "metadata": {
      "needs_background": "light"
     },
     "output_type": "display_data"
    }
   ],
   "source": [
    "fig, ax = plt.subplots(figsize=(10,10))\n",
    "ax.barh(stay_df[\"Place of Stay\"],stay_df[\"Domestic Tourist\"],height=0.6, left=None,align='center')"
   ]
  },
  {
   "cell_type": "markdown",
   "metadata": {},
   "source": [
    "<b> Friends and Relative is the preferred place of stay for domestic tourists. \n",
    "Non Star Hotels is the other prominent choice for place of stay </b>"
   ]
  },
  {
   "cell_type": "code",
   "execution_count": null,
   "metadata": {},
   "outputs": [],
   "source": []
  },
  {
   "cell_type": "markdown",
   "metadata": {},
   "source": [
    "<h4> Foreign Tourists </h4>"
   ]
  },
  {
   "cell_type": "code",
   "execution_count": 203,
   "metadata": {},
   "outputs": [
    {
     "data": {
      "text/plain": [
       "<BarContainer object of 9 artists>"
      ]
     },
     "execution_count": 203,
     "metadata": {},
     "output_type": "execute_result"
    },
    {
     "data": {
      "image/png": "[encoded data removed]",
      "text/plain": [
       "<Figure size 720x720 with 1 Axes>"
      ]
     },
     "metadata": {
      "needs_background": "light"
     },
     "output_type": "display_data"
    }
   ],
   "source": [
    "fig, ax = plt.subplots(figsize=(10,10))\n",
    "ax.barh(stay_df[\"Place of Stay\"],stay_df[\"Foreign Tourist\"],height=0.6, left=None,align='center')"
   ]
  },
  {
   "cell_type": "markdown",
   "metadata": {},
   "source": [
    "<b> Star Hotels is the preferred place of stay for domestic tourists. \n",
    "Non Star Hotels is the other prominent choice for place of stay </b>"
   ]
  },
  {
   "cell_type": "code",
   "execution_count": null,
   "metadata": {},
   "outputs": [],
   "source": []
  },
  {
   "cell_type": "code",
   "execution_count": null,
   "metadata": {},
   "outputs": [],
   "source": []
  }
 ],
 "metadata": {
  "kernelspec": {
   "display_name": "Python 3",
   "language": "python",
   "name": "python3"
  },
  "language_info": {
   "codemirror_mode": {
    "name": "ipython",
    "version": 3
   },
   "file_extension": ".py",
   "mimetype": "text/x-python",
   "name": "python",
   "nbconvert_exporter": "python",
   "pygments_lexer": "ipython3",
   "version": "3.7.3"
  }
 },
 "nbformat": 4,
 "nbformat_minor": 4
}
